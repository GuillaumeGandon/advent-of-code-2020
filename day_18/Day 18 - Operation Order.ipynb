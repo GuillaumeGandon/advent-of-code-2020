{
 "cells": [
  {
   "cell_type": "code",
   "execution_count": 1,
   "metadata": {
    "ExecuteTime": {
     "end_time": "2020-12-18T15:00:29.309621Z",
     "start_time": "2020-12-18T15:00:29.307170Z"
    }
   },
   "outputs": [],
   "source": [
    "import re\n",
    "from itertools import product\n",
    "\n",
    "with open('input.txt', 'r') as f:\n",
    "    data = f.read().splitlines()"
   ]
  },
  {
   "cell_type": "code",
   "execution_count": 2,
   "metadata": {
    "ExecuteTime": {
     "end_time": "2020-12-18T15:00:29.314020Z",
     "start_time": "2020-12-18T15:00:29.310939Z"
    }
   },
   "outputs": [],
   "source": [
    "class MyInt:\n",
    "    def __init__(self, value):\n",
    "        self.value = value\n",
    "\n",
    "    def __add__(self, other):\n",
    "        return MyInt(self.value + other.value)\n",
    "\n",
    "    def __sub__(self, other):\n",
    "        return MyInt(self.value * other.value)\n",
    "\n",
    "    def __mul__(self, other):\n",
    "        return MyInt(self.value + other.value)\n",
    "\n",
    "    def __str__(self):\n",
    "        return str(self.value)"
   ]
  },
  {
   "cell_type": "code",
   "execution_count": 3,
   "metadata": {
    "ExecuteTime": {
     "end_time": "2020-12-18T15:00:29.333306Z",
     "start_time": "2020-12-18T15:00:29.315191Z"
    }
   },
   "outputs": [
    {
     "name": "stdout",
     "output_type": "stream",
     "text": [
      "Answer part one: 45283905029161\n"
     ]
    }
   ],
   "source": [
    "def compute(line):\n",
    "    exp = ''\n",
    "    for c in line:\n",
    "        if str.isdigit(c):\n",
    "            exp += \"MyInt(\" + c + \")\"\n",
    "        else:\n",
    "            exp += c\n",
    "    exp = exp.replace('*', '-')\n",
    "    return eval(exp).value\n",
    "\n",
    "\n",
    "print(f\"Answer part one: {sum(compute(line) for line in data)}\")"
   ]
  },
  {
   "cell_type": "code",
   "execution_count": 4,
   "metadata": {
    "ExecuteTime": {
     "end_time": "2020-12-18T15:00:29.351411Z",
     "start_time": "2020-12-18T15:00:29.334534Z"
    }
   },
   "outputs": [
    {
     "name": "stdout",
     "output_type": "stream",
     "text": [
      "Answer part two: 216975281211165\n"
     ]
    }
   ],
   "source": [
    "def compute(line):\n",
    "    exp = ''\n",
    "    for c in line:\n",
    "        if str.isdigit(c):\n",
    "            exp += \"MyInt(\" + c + \")\"\n",
    "        else:\n",
    "            exp += c\n",
    "    exp = exp.replace('*', '-').replace('+', '*')\n",
    "    return eval(exp).value\n",
    "\n",
    "\n",
    "print(f\"Answer part two: {sum(compute(line) for line in data)}\")"
   ]
  }
 ],
 "metadata": {
  "kernelspec": {
   "display_name": "Python 3",
   "language": "python",
   "name": "python3"
  },
  "language_info": {
   "codemirror_mode": {
    "name": "ipython",
    "version": 3
   },
   "file_extension": ".py",
   "mimetype": "text/x-python",
   "name": "python",
   "nbconvert_exporter": "python",
   "pygments_lexer": "ipython3",
   "version": "3.9.0+"
  }
 },
 "nbformat": 4,
 "nbformat_minor": 4
}
