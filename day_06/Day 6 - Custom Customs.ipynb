{
 "cells": [
  {
   "cell_type": "code",
   "execution_count": 1,
   "metadata": {
    "ExecuteTime": {
     "end_time": "2020-12-06T15:29:46.518133Z",
     "start_time": "2020-12-06T15:29:46.515847Z"
    }
   },
   "outputs": [],
   "source": [
    "with open('input.txt', 'r') as f:\n",
    "    group_answers = f.read().strip().split('\\n\\n')"
   ]
  },
  {
   "cell_type": "code",
   "execution_count": 2,
   "metadata": {
    "ExecuteTime": {
     "end_time": "2020-12-06T15:29:46.522370Z",
     "start_time": "2020-12-06T15:29:46.519064Z"
    }
   },
   "outputs": [],
   "source": [
    "anyone_answered = [set(group_answer.replace('\\n', '')) for group_answer in group_answers]\n",
    "print(f'Answer part one: {sum(map(len, anyone_answered))}')"
   ]
  },
  {
   "cell_type": "code",
   "execution_count": 3,
   "metadata": {
    "ExecuteTime": {
     "end_time": "2020-12-06T15:29:46.527749Z",
     "start_time": "2020-12-06T15:29:46.523421Z"
    }
   },
   "outputs": [],
   "source": [
    "everyone_answered = [\n",
    "    set.intersection(*map(set, group_answer.split('\\n')))\n",
    "    for group_answer in group_answers\n",
    "]\n",
    "print(f'Answer part two: {sum(map(len, everyone_answered))}')"
   ]
  },
  {
   "cell_type": "code",
   "execution_count": null,
   "metadata": {},
   "outputs": [],
   "source": []
  }
 ],
 "metadata": {
  "kernelspec": {
   "display_name": "Python 3",
   "language": "python",
   "name": "python3"
  },
  "language_info": {
   "codemirror_mode": {
    "name": "ipython",
    "version": 3
   },
   "file_extension": ".py",
   "mimetype": "text/x-python",
   "name": "python",
   "nbconvert_exporter": "python",
   "pygments_lexer": "ipython3",
   "version": "3.8.5"
  }
 },
 "nbformat": 4,
 "nbformat_minor": 4
}
