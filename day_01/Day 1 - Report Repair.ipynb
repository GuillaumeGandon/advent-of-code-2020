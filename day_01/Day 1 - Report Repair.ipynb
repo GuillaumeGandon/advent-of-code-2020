{
 "cells": [
  {
   "cell_type": "code",
   "execution_count": 1,
   "metadata": {
    "ExecuteTime": {
     "end_time": "2020-12-01T13:04:00.360579Z",
     "start_time": "2020-12-01T13:04:00.351304Z"
    },
    "scrolled": true
   },
   "outputs": [
    {
     "name": "stdout",
     "output_type": "stream",
     "text": [
      "Answer part one: 902451\n",
      "Answer part two: 85555470\n"
     ]
    }
   ],
   "source": [
    "import itertools\n",
    "\n",
    "\n",
    "with open('input.txt', 'r') as f:\n",
    "    entries = sorted(set([int(entry) for entry in f.readlines()]))\n",
    "\n",
    "for x in itertools.product(entries, entries):\n",
    "    if sum(x) == 2020:\n",
    "        (a, b) = x\n",
    "        print(f'Answer part one: {a*b}')\n",
    "        break\n",
    "\n",
    "for x in itertools.product(entries, entries, entries):\n",
    "    if sum(x) == 2020:\n",
    "        (a, b, c) = x\n",
    "        print(f'Answer part two: {a*b*c}')\n",
    "        break"
   ]
  }
 ],
 "metadata": {
  "kernelspec": {
   "display_name": "Python 3",
   "language": "python",
   "name": "python3"
  },
  "language_info": {
   "codemirror_mode": {
    "name": "ipython",
    "version": 3
   },
   "file_extension": ".py",
   "mimetype": "text/x-python",
   "name": "python",
   "nbconvert_exporter": "python",
   "pygments_lexer": "ipython3",
   "version": "3.8.5"
  }
 },
 "nbformat": 4,
 "nbformat_minor": 4
}
